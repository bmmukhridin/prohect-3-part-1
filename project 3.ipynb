{
 "cells": [
  {
   "cell_type": "code",
   "execution_count": 1,
   "id": "4978443e",
   "metadata": {},
   "outputs": [],
   "source": [
    "import numpy as np\n",
    "import pandas as pd"
   ]
  },
  {
   "cell_type": "code",
   "execution_count": 11,
   "id": "1f47d5ce",
   "metadata": {},
   "outputs": [],
   "source": [
    "basics_url= \"https://datasets.imdbws.com/title.basics.tsv.gz\"\n",
    "title_aka = 'https://datasets.imdbws.com/title.akas.tsv.gz'\n",
    "title_rating = 'https://datasets.imdbws.com/title.ratings.tsv.gz'"
   ]
  },
  {
   "cell_type": "code",
   "execution_count": 19,
   "id": "5479e897",
   "metadata": {},
   "outputs": [],
   "source": [
    "# read in files\n",
    "basics = pd.read_csv(basics_url, sep = '\\t', low_memory = False)\n",
    "title = pd.read_csv(title_aka, sep = '\\t', low_memory = False)\n",
    "rating = pd.read_csv(title_rating, sep = '\\t', low_memory = False)"
   ]
  },
  {
   "cell_type": "code",
   "execution_count": 20,
   "id": "d50e41bd",
   "metadata": {},
   "outputs": [],
   "source": [
    "basics_res = basics.copy()\n",
    "title_res = title.copy()\n",
    "title_res = title.copy()"
   ]
  },
  {
   "attachments": {},
   "cell_type": "markdown",
   "id": "fcc29351",
   "metadata": {},
   "source": [
    "## 2.1 basics dataframe"
   ]
  },
  {
   "cell_type": "code",
   "execution_count": 21,
   "id": "4dbb9757",
   "metadata": {},
   "outputs": [
    {
     "name": "stdout",
     "output_type": "stream",
     "text": [
      "<class 'pandas.core.frame.DataFrame'>\n",
      "RangeIndex: 9922854 entries, 0 to 9922853\n",
      "Data columns (total 9 columns):\n",
      " #   Column          Dtype \n",
      "---  ------          ----- \n",
      " 0   tconst          object\n",
      " 1   titleType       object\n",
      " 2   primaryTitle    object\n",
      " 3   originalTitle   object\n",
      " 4   isAdult         object\n",
      " 5   startYear       object\n",
      " 6   endYear         object\n",
      " 7   runtimeMinutes  object\n",
      " 8   genres          object\n",
      "dtypes: object(9)\n",
      "memory usage: 681.3+ MB\n"
     ]
    }
   ],
   "source": [
    "basics.info()"
   ]
  },
  {
   "cell_type": "code",
   "execution_count": 22,
   "id": "967a03b5",
   "metadata": {},
   "outputs": [
    {
     "data": {
      "text/plain": [
       "tconst                  0\n",
       "titleType               0\n",
       "primaryTitle           11\n",
       "originalTitle          11\n",
       "isAdult                 1\n",
       "startYear         1337848\n",
       "endYear           9814334\n",
       "runtimeMinutes    6984375\n",
       "genres             445155\n",
       "dtype: int64"
      ]
     },
     "execution_count": 22,
     "metadata": {},
     "output_type": "execute_result"
    }
   ],
   "source": [
    "# find and replace with np.nan\n",
    "basics.replace({'\\\\N': np.nan}, inplace = True)\n",
    "\n",
    "# check\n",
    "basics.isna().sum()"
   ]
  },
  {
   "cell_type": "code",
   "execution_count": 23,
   "id": "e8600813",
   "metadata": {},
   "outputs": [
    {
     "data": {
      "text/plain": [
       "0"
      ]
     },
     "execution_count": 23,
     "metadata": {},
     "output_type": "execute_result"
    }
   ],
   "source": [
    "# drop nulls in 'runtimeMinutes' column\n",
    "basics.dropna(subset = ['runtimeMinutes'], inplace = True)\n",
    "\n",
    "# check\n",
    "basics['runtimeMinutes'].isna().sum()"
   ]
  },
  {
   "cell_type": "code",
   "execution_count": 24,
   "id": "4f57c8be",
   "metadata": {},
   "outputs": [
    {
     "data": {
      "text/plain": [
       "0"
      ]
     },
     "execution_count": 24,
     "metadata": {},
     "output_type": "execute_result"
    }
   ],
   "source": [
    "# drop nulls in 'genres' column\n",
    "basics.dropna(subset = ['genres'], inplace = True)\n",
    "\n",
    "# check\n",
    "basics['genres'].isna().sum()"
   ]
  },
  {
   "cell_type": "code",
   "execution_count": 25,
   "id": "473663d3",
   "metadata": {},
   "outputs": [
    {
     "data": {
      "text/plain": [
       "movie    383691\n",
       "Name: titleType, dtype: int64"
      ]
     },
     "execution_count": 25,
     "metadata": {},
     "output_type": "execute_result"
    }
   ],
   "source": [
    "# keep only 'titleType' == 'movie'\n",
    "basics = basics[basics['titleType'] == 'movie']\n",
    "\n",
    "# check\n",
    "basics['titleType'].value_counts()"
   ]
  },
  {
   "cell_type": "code",
   "execution_count": 26,
   "id": "ad941cfd",
   "metadata": {},
   "outputs": [
    {
     "data": {
      "text/plain": [
       "0"
      ]
     },
     "execution_count": 26,
     "metadata": {},
     "output_type": "execute_result"
    }
   ],
   "source": [
    "# drop nulls from column\n",
    "basics.dropna(subset = ['startYear'], inplace = True)\n",
    "\n",
    "# check\n",
    "basics['startYear'].isna().sum()"
   ]
  },
  {
   "cell_type": "code",
   "execution_count": 27,
   "id": "8af464e6",
   "metadata": {},
   "outputs": [],
   "source": [
    "# convert dtype to int\n",
    "basics['startYear'] = basics['startYear'].astype(int)"
   ]
  },
  {
   "cell_type": "code",
   "execution_count": 28,
   "id": "0e959aa0",
   "metadata": {},
   "outputs": [
    {
     "data": {
      "text/plain": [
       "count    377217.000000\n",
       "mean       1995.816485\n",
       "std          26.685556\n",
       "min        1894.000000\n",
       "25%        1981.000000\n",
       "50%        2008.000000\n",
       "75%        2016.000000\n",
       "max        2029.000000\n",
       "Name: startYear, dtype: float64"
      ]
     },
     "execution_count": 28,
     "metadata": {},
     "output_type": "execute_result"
    }
   ],
   "source": [
    "# check min and max year first\n",
    "basics['startYear'].describe()"
   ]
  },
  {
   "cell_type": "code",
   "execution_count": 29,
   "id": "c6b3f437",
   "metadata": {},
   "outputs": [
    {
     "data": {
      "text/plain": [
       "2022    12913\n",
       "2021    12407\n",
       "2020    11587\n",
       "2019    14101\n",
       "2018    14344\n",
       "2017    14384\n",
       "2016    13965\n",
       "2015    13478\n",
       "2014    13123\n",
       "2013    12394\n",
       "2012    11652\n",
       "2011    10779\n",
       "2010    10214\n",
       "2009     9367\n",
       "2008     8166\n",
       "2007     6967\n",
       "2006     6526\n",
       "2005     5846\n",
       "2004     5218\n",
       "2003     4596\n",
       "2002     4136\n",
       "2001     3873\n",
       "2000     3643\n",
       "Name: startYear, dtype: int64"
      ]
     },
     "execution_count": 29,
     "metadata": {},
     "output_type": "execute_result"
    }
   ],
   "source": [
    "# keep only 'startYear' from 2000 to 2022, including 2000 and 2022\n",
    "basics = basics[(basics['startYear'] >= 2000) &\n",
    "                (basics['startYear'] <= 2022)]\n",
    "\n",
    "# check\n",
    "basics['startYear'].value_counts().sort_index(ascending = False)"
   ]
  },
  {
   "cell_type": "code",
   "execution_count": 30,
   "id": "f65ee797",
   "metadata": {},
   "outputs": [
    {
     "data": {
      "text/plain": [
       "Documentary                  53382\n",
       "Drama                        36084\n",
       "Comedy                       13462\n",
       "Comedy,Drama                  6460\n",
       "Horror                        5803\n",
       "                             ...  \n",
       "Animation,Biography,Sport        1\n",
       "Adventure,History,Music          1\n",
       "Adventure,History,War            1\n",
       "Adventure,Romance,Sport          1\n",
       "Crime,Fantasy,Sci-Fi             1\n",
       "Name: genres, Length: 1172, dtype: int64"
      ]
     },
     "execution_count": 30,
     "metadata": {},
     "output_type": "execute_result"
    }
   ],
   "source": [
    "# check out 'genres' column\n",
    "basics['genres'].value_counts()"
   ]
  },
  {
   "cell_type": "code",
   "execution_count": 31,
   "id": "c742b623",
   "metadata": {},
   "outputs": [
    {
     "data": {
      "text/plain": [
       "Drama                        36084\n",
       "Comedy                       13462\n",
       "Comedy,Drama                  6460\n",
       "Horror                        5803\n",
       "Drama,Romance                 4317\n",
       "                             ...  \n",
       "Family,Musical,Sport             1\n",
       "Horror,Music,Mystery             1\n",
       "Comedy,History,Mystery           1\n",
       "Animation,Biography,Sport        1\n",
       "Crime,Fantasy,Sci-Fi             1\n",
       "Name: genres, Length: 955, dtype: int64"
      ]
     },
     "execution_count": 31,
     "metadata": {},
     "output_type": "execute_result"
    }
   ],
   "source": [
    "# exclude any movies that have 'documentary' in their genre\n",
    "is_documentary = basics['genres'].str.contains('documentary', \n",
    "                                               case = False)\n",
    "basics = basics[~is_documentary]\n",
    "\n",
    "# check\n",
    "basics['genres'].value_counts()"
   ]
  },
  {
   "cell_type": "code",
   "execution_count": 32,
   "id": "8487312a",
   "metadata": {},
   "outputs": [
    {
     "name": "stdout",
     "output_type": "stream",
     "text": [
      "<class 'pandas.core.frame.DataFrame'>\n",
      "RangeIndex: 36198559 entries, 0 to 36198558\n",
      "Data columns (total 8 columns):\n",
      " #   Column           Dtype \n",
      "---  ------           ----- \n",
      " 0   titleId          object\n",
      " 1   ordering         int64 \n",
      " 2   title            object\n",
      " 3   region           object\n",
      " 4   language         object\n",
      " 5   types            object\n",
      " 6   attributes       object\n",
      " 7   isOriginalTitle  object\n",
      "dtypes: int64(1), object(7)\n",
      "memory usage: 2.2+ GB\n"
     ]
    }
   ],
   "source": [
    "# check info\n",
    "title.info()"
   ]
  },
  {
   "cell_type": "code",
   "execution_count": 33,
   "id": "445c2623",
   "metadata": {},
   "outputs": [
    {
     "data": {
      "text/plain": [
       "titleId                   0\n",
       "ordering                  0\n",
       "title                     5\n",
       "region              1893166\n",
       "language            6632576\n",
       "types              30617571\n",
       "attributes         35937614\n",
       "isOriginalTitle        2078\n",
       "dtype: int64"
      ]
     },
     "execution_count": 33,
     "metadata": {},
     "output_type": "execute_result"
    }
   ],
   "source": [
    "# find and replace with np.nan\n",
    "title.replace({'\\\\N': np.nan}, inplace = True)\n",
    "\n",
    "# check\n",
    "title.isna().sum()"
   ]
  },
  {
   "cell_type": "code",
   "execution_count": 34,
   "id": "7928bd8b",
   "metadata": {},
   "outputs": [
    {
     "data": {
      "text/plain": [
       "0"
      ]
     },
     "execution_count": 34,
     "metadata": {},
     "output_type": "execute_result"
    }
   ],
   "source": [
    "# drop null values in 'region'\n",
    "title.dropna(subset = ['region'], inplace = True)\n",
    "\n",
    "# check\n",
    "title['region'].isna().sum()"
   ]
  },
  {
   "cell_type": "code",
   "execution_count": 35,
   "id": "6f54041a",
   "metadata": {},
   "outputs": [
    {
     "data": {
      "text/plain": [
       "DE    4337458\n",
       "FR    4333012\n",
       "JP    4331218\n",
       "IN    4273091\n",
       "ES    4252718\n",
       "       ...   \n",
       "FM          2\n",
       "TV          1\n",
       "PW          1\n",
       "NR          1\n",
       "NU          1\n",
       "Name: region, Length: 247, dtype: int64"
      ]
     },
     "execution_count": 35,
     "metadata": {},
     "output_type": "execute_result"
    }
   ],
   "source": [
    "# check values in 'region'\n",
    "title['region'].value_counts()"
   ]
  },
  {
   "cell_type": "code",
   "execution_count": 36,
   "id": "bd3b9790",
   "metadata": {},
   "outputs": [
    {
     "data": {
      "text/plain": [
       "1444405"
      ]
     },
     "execution_count": 36,
     "metadata": {},
     "output_type": "execute_result"
    }
   ],
   "source": [
    "# check number of movies from US\n",
    "len(title[title['region'] == 'US'])"
   ]
  },
  {
   "cell_type": "code",
   "execution_count": 37,
   "id": "c8f19de9",
   "metadata": {},
   "outputs": [
    {
     "data": {
      "text/plain": [
       "US    1444405\n",
       "Name: region, dtype: int64"
      ]
     },
     "execution_count": 37,
     "metadata": {},
     "output_type": "execute_result"
    }
   ],
   "source": [
    "# keep only movies from uS\n",
    "title = title[title['region'] == 'US']\n",
    "\n",
    "# check\n",
    "title['region'].value_counts()"
   ]
  },
  {
   "cell_type": "code",
   "execution_count": 38,
   "id": "7c206d95",
   "metadata": {},
   "outputs": [
    {
     "name": "stdout",
     "output_type": "stream",
     "text": [
      "<class 'pandas.core.frame.DataFrame'>\n",
      "RangeIndex: 1318736 entries, 0 to 1318735\n",
      "Data columns (total 3 columns):\n",
      " #   Column         Non-Null Count    Dtype  \n",
      "---  ------         --------------    -----  \n",
      " 0   tconst         1318736 non-null  object \n",
      " 1   averageRating  1318736 non-null  float64\n",
      " 2   numVotes       1318736 non-null  int64  \n",
      "dtypes: float64(1), int64(1), object(1)\n",
      "memory usage: 30.2+ MB\n"
     ]
    }
   ],
   "source": [
    "# check info\n",
    "rating.info()"
   ]
  },
  {
   "cell_type": "code",
   "execution_count": 39,
   "id": "c45a9cc0",
   "metadata": {},
   "outputs": [
    {
     "data": {
      "text/plain": [
       "tconst           0\n",
       "averageRating    0\n",
       "numVotes         0\n",
       "dtype: int64"
      ]
     },
     "execution_count": 39,
     "metadata": {},
     "output_type": "execute_result"
    }
   ],
   "source": [
    "# find and replace with np.nan\n",
    "rating.replace({'\\\\N': np.nan}, inplace = True)\n",
    "\n",
    "# check\n",
    "rating.isna().sum()"
   ]
  },
  {
   "cell_type": "code",
   "execution_count": 40,
   "id": "1ca8a45a",
   "metadata": {},
   "outputs": [
    {
     "data": {
      "text/plain": [
       "34803       True\n",
       "42384       True\n",
       "61115       True\n",
       "67668       True\n",
       "86800       True\n",
       "           ...  \n",
       "9922527     True\n",
       "9922536     True\n",
       "9922575    False\n",
       "9922620     True\n",
       "9922704    False\n",
       "Name: tconst, Length: 147681, dtype: bool"
      ]
     },
     "execution_count": 40,
     "metadata": {},
     "output_type": "execute_result"
    }
   ],
   "source": [
    "us_movies = basics['tconst'].isin(title['titleId'])\n",
    "\n",
    "# check\n",
    "us_movies"
   ]
  },
  {
   "cell_type": "code",
   "execution_count": 41,
   "id": "7a483ae9",
   "metadata": {},
   "outputs": [
    {
     "data": {
      "text/plain": [
       "147681"
      ]
     },
     "execution_count": 41,
     "metadata": {},
     "output_type": "execute_result"
    }
   ],
   "source": [
    "len(basics)"
   ]
  },
  {
   "cell_type": "code",
   "execution_count": 42,
   "id": "a7210e90",
   "metadata": {},
   "outputs": [
    {
     "data": {
      "text/plain": [
       "86769"
      ]
     },
     "execution_count": 42,
     "metadata": {},
     "output_type": "execute_result"
    }
   ],
   "source": [
    "# filter\n",
    "basics = basics[us_movies]\n",
    "\n",
    "# check\n",
    "len(basics)"
   ]
  },
  {
   "cell_type": "code",
   "execution_count": 43,
   "id": "ae3cdb58",
   "metadata": {},
   "outputs": [
    {
     "data": {
      "text/plain": [
       "0           True\n",
       "1           True\n",
       "2          False\n",
       "3          False\n",
       "4           True\n",
       "           ...  \n",
       "1318731    False\n",
       "1318732    False\n",
       "1318733    False\n",
       "1318734    False\n",
       "1318735    False\n",
       "Name: tconst, Length: 1318736, dtype: bool"
      ]
     },
     "execution_count": 43,
     "metadata": {},
     "output_type": "execute_result"
    }
   ],
   "source": [
    "us_movies = rating['tconst'].isin(title['titleId'])\n",
    "\n",
    "# check\n",
    "us_movies"
   ]
  },
  {
   "cell_type": "code",
   "execution_count": 44,
   "id": "f7631502",
   "metadata": {},
   "outputs": [
    {
     "data": {
      "text/plain": [
       "1318736"
      ]
     },
     "execution_count": 44,
     "metadata": {},
     "output_type": "execute_result"
    }
   ],
   "source": [
    "len(rating)"
   ]
  },
  {
   "cell_type": "code",
   "execution_count": 45,
   "id": "c6eb105a",
   "metadata": {},
   "outputs": [
    {
     "name": "stdout",
     "output_type": "stream",
     "text": [
      "<class 'pandas.core.frame.DataFrame'>\n",
      "Int64Index: 86769 entries, 34803 to 9922620\n",
      "Data columns (total 9 columns):\n",
      " #   Column          Non-Null Count  Dtype \n",
      "---  ------          --------------  ----- \n",
      " 0   tconst          86769 non-null  object\n",
      " 1   titleType       86769 non-null  object\n",
      " 2   primaryTitle    86769 non-null  object\n",
      " 3   originalTitle   86769 non-null  object\n",
      " 4   isAdult         86769 non-null  object\n",
      " 5   startYear       86769 non-null  int64 \n",
      " 6   endYear         0 non-null      object\n",
      " 7   runtimeMinutes  86769 non-null  object\n",
      " 8   genres          86769 non-null  object\n",
      "dtypes: int64(1), object(8)\n",
      "memory usage: 6.6+ MB\n"
     ]
    }
   ],
   "source": [
    "# check info for basics\n",
    "basics.info()"
   ]
  },
  {
   "cell_type": "code",
   "execution_count": 46,
   "id": "e2124b8e",
   "metadata": {},
   "outputs": [
    {
     "name": "stdout",
     "output_type": "stream",
     "text": [
      "<class 'pandas.core.frame.DataFrame'>\n",
      "Int64Index: 1444405 entries, 5 to 36198303\n",
      "Data columns (total 8 columns):\n",
      " #   Column           Non-Null Count    Dtype \n",
      "---  ------           --------------    ----- \n",
      " 0   titleId          1444405 non-null  object\n",
      " 1   ordering         1444405 non-null  int64 \n",
      " 2   title            1444405 non-null  object\n",
      " 3   region           1444405 non-null  object\n",
      " 4   language         3950 non-null     object\n",
      " 5   types            979987 non-null   object\n",
      " 6   attributes       46743 non-null    object\n",
      " 7   isOriginalTitle  1443063 non-null  object\n",
      "dtypes: int64(1), object(7)\n",
      "memory usage: 99.2+ MB\n"
     ]
    }
   ],
   "source": [
    "# check info for title\n",
    "title.info()"
   ]
  },
  {
   "cell_type": "code",
   "execution_count": 47,
   "id": "8eb5e22a",
   "metadata": {},
   "outputs": [
    {
     "name": "stdout",
     "output_type": "stream",
     "text": [
      "<class 'pandas.core.frame.DataFrame'>\n",
      "RangeIndex: 1318736 entries, 0 to 1318735\n",
      "Data columns (total 3 columns):\n",
      " #   Column         Non-Null Count    Dtype  \n",
      "---  ------         --------------    -----  \n",
      " 0   tconst         1318736 non-null  object \n",
      " 1   averageRating  1318736 non-null  float64\n",
      " 2   numVotes       1318736 non-null  int64  \n",
      "dtypes: float64(1), int64(1), object(1)\n",
      "memory usage: 30.2+ MB\n"
     ]
    }
   ],
   "source": [
    "# check info for ratings\n",
    "rating.info()"
   ]
  },
  {
   "cell_type": "code",
   "execution_count": 48,
   "id": "fbf8f19d",
   "metadata": {},
   "outputs": [
    {
     "data": {
      "text/html": [
       "<div>\n",
       "<style scoped>\n",
       "    .dataframe tbody tr th:only-of-type {\n",
       "        vertical-align: middle;\n",
       "    }\n",
       "\n",
       "    .dataframe tbody tr th {\n",
       "        vertical-align: top;\n",
       "    }\n",
       "\n",
       "    .dataframe thead th {\n",
       "        text-align: right;\n",
       "    }\n",
       "</style>\n",
       "<table border=\"1\" class=\"dataframe\">\n",
       "  <thead>\n",
       "    <tr style=\"text-align: right;\">\n",
       "      <th></th>\n",
       "      <th>tconst</th>\n",
       "      <th>titleType</th>\n",
       "      <th>primaryTitle</th>\n",
       "      <th>originalTitle</th>\n",
       "      <th>isAdult</th>\n",
       "      <th>startYear</th>\n",
       "      <th>endYear</th>\n",
       "      <th>runtimeMinutes</th>\n",
       "      <th>genres</th>\n",
       "    </tr>\n",
       "  </thead>\n",
       "  <tbody>\n",
       "    <tr>\n",
       "      <th>0</th>\n",
       "      <td>tt0035423</td>\n",
       "      <td>movie</td>\n",
       "      <td>Kate &amp; Leopold</td>\n",
       "      <td>Kate &amp; Leopold</td>\n",
       "      <td>0</td>\n",
       "      <td>2001</td>\n",
       "      <td>NaN</td>\n",
       "      <td>118</td>\n",
       "      <td>Comedy,Fantasy,Romance</td>\n",
       "    </tr>\n",
       "    <tr>\n",
       "      <th>1</th>\n",
       "      <td>tt0043139</td>\n",
       "      <td>movie</td>\n",
       "      <td>Life of a Beijing Policeman</td>\n",
       "      <td>Wo zhe yi bei zi</td>\n",
       "      <td>0</td>\n",
       "      <td>2013</td>\n",
       "      <td>NaN</td>\n",
       "      <td>120</td>\n",
       "      <td>Drama,History</td>\n",
       "    </tr>\n",
       "    <tr>\n",
       "      <th>2</th>\n",
       "      <td>tt0062336</td>\n",
       "      <td>movie</td>\n",
       "      <td>The Tango of the Widower and Its Distorting Mi...</td>\n",
       "      <td>El tango del viudo y su espejo deformante</td>\n",
       "      <td>0</td>\n",
       "      <td>2020</td>\n",
       "      <td>NaN</td>\n",
       "      <td>70</td>\n",
       "      <td>Drama</td>\n",
       "    </tr>\n",
       "    <tr>\n",
       "      <th>3</th>\n",
       "      <td>tt0069049</td>\n",
       "      <td>movie</td>\n",
       "      <td>The Other Side of the Wind</td>\n",
       "      <td>The Other Side of the Wind</td>\n",
       "      <td>0</td>\n",
       "      <td>2018</td>\n",
       "      <td>NaN</td>\n",
       "      <td>122</td>\n",
       "      <td>Drama</td>\n",
       "    </tr>\n",
       "    <tr>\n",
       "      <th>4</th>\n",
       "      <td>tt0088751</td>\n",
       "      <td>movie</td>\n",
       "      <td>The Naked Monster</td>\n",
       "      <td>The Naked Monster</td>\n",
       "      <td>0</td>\n",
       "      <td>2005</td>\n",
       "      <td>NaN</td>\n",
       "      <td>100</td>\n",
       "      <td>Comedy,Horror,Sci-Fi</td>\n",
       "    </tr>\n",
       "  </tbody>\n",
       "</table>\n",
       "</div>"
      ],
      "text/plain": [
       "      tconst titleType                                       primaryTitle  \\\n",
       "0  tt0035423     movie                                     Kate & Leopold   \n",
       "1  tt0043139     movie                        Life of a Beijing Policeman   \n",
       "2  tt0062336     movie  The Tango of the Widower and Its Distorting Mi...   \n",
       "3  tt0069049     movie                         The Other Side of the Wind   \n",
       "4  tt0088751     movie                                  The Naked Monster   \n",
       "\n",
       "                               originalTitle  isAdult  startYear  endYear  \\\n",
       "0                             Kate & Leopold        0       2001      NaN   \n",
       "1                           Wo zhe yi bei zi        0       2013      NaN   \n",
       "2  El tango del viudo y su espejo deformante        0       2020      NaN   \n",
       "3                 The Other Side of the Wind        0       2018      NaN   \n",
       "4                          The Naked Monster        0       2005      NaN   \n",
       "\n",
       "   runtimeMinutes                  genres  \n",
       "0             118  Comedy,Fantasy,Romance  \n",
       "1             120           Drama,History  \n",
       "2              70                   Drama  \n",
       "3             122                   Drama  \n",
       "4             100    Comedy,Horror,Sci-Fi  "
      ]
     },
     "execution_count": 48,
     "metadata": {},
     "output_type": "execute_result"
    }
   ],
   "source": [
    "# save each file to a compressed csv file in data folder\n",
    "basics.to_csv('Data/title_basics.csv.gz', \n",
    "              compression = 'gzip', \n",
    "              index = False)\n",
    "\n",
    "# check\n",
    "basics = pd.read_csv('Data/title_basics.csv.gz',\n",
    "                    low_memory = False)\n",
    "\n",
    "basics.head()"
   ]
  },
  {
   "cell_type": "code",
   "execution_count": 50,
   "id": "9621a8eb",
   "metadata": {},
   "outputs": [
    {
     "data": {
      "text/html": [
       "<div>\n",
       "<style scoped>\n",
       "    .dataframe tbody tr th:only-of-type {\n",
       "        vertical-align: middle;\n",
       "    }\n",
       "\n",
       "    .dataframe tbody tr th {\n",
       "        vertical-align: top;\n",
       "    }\n",
       "\n",
       "    .dataframe thead th {\n",
       "        text-align: right;\n",
       "    }\n",
       "</style>\n",
       "<table border=\"1\" class=\"dataframe\">\n",
       "  <thead>\n",
       "    <tr style=\"text-align: right;\">\n",
       "      <th></th>\n",
       "      <th>titleId</th>\n",
       "      <th>ordering</th>\n",
       "      <th>title</th>\n",
       "      <th>region</th>\n",
       "      <th>language</th>\n",
       "      <th>types</th>\n",
       "      <th>attributes</th>\n",
       "      <th>isOriginalTitle</th>\n",
       "    </tr>\n",
       "  </thead>\n",
       "  <tbody>\n",
       "    <tr>\n",
       "      <th>0</th>\n",
       "      <td>tt0000001</td>\n",
       "      <td>6</td>\n",
       "      <td>Carmencita</td>\n",
       "      <td>US</td>\n",
       "      <td>NaN</td>\n",
       "      <td>imdbDisplay</td>\n",
       "      <td>NaN</td>\n",
       "      <td>0.0</td>\n",
       "    </tr>\n",
       "    <tr>\n",
       "      <th>1</th>\n",
       "      <td>tt0000002</td>\n",
       "      <td>7</td>\n",
       "      <td>The Clown and His Dogs</td>\n",
       "      <td>US</td>\n",
       "      <td>NaN</td>\n",
       "      <td>NaN</td>\n",
       "      <td>literal English title</td>\n",
       "      <td>0.0</td>\n",
       "    </tr>\n",
       "    <tr>\n",
       "      <th>2</th>\n",
       "      <td>tt0000005</td>\n",
       "      <td>10</td>\n",
       "      <td>Blacksmith Scene</td>\n",
       "      <td>US</td>\n",
       "      <td>NaN</td>\n",
       "      <td>imdbDisplay</td>\n",
       "      <td>NaN</td>\n",
       "      <td>0.0</td>\n",
       "    </tr>\n",
       "    <tr>\n",
       "      <th>3</th>\n",
       "      <td>tt0000005</td>\n",
       "      <td>1</td>\n",
       "      <td>Blacksmithing Scene</td>\n",
       "      <td>US</td>\n",
       "      <td>NaN</td>\n",
       "      <td>alternative</td>\n",
       "      <td>NaN</td>\n",
       "      <td>0.0</td>\n",
       "    </tr>\n",
       "    <tr>\n",
       "      <th>4</th>\n",
       "      <td>tt0000005</td>\n",
       "      <td>6</td>\n",
       "      <td>Blacksmith Scene #1</td>\n",
       "      <td>US</td>\n",
       "      <td>NaN</td>\n",
       "      <td>alternative</td>\n",
       "      <td>NaN</td>\n",
       "      <td>0.0</td>\n",
       "    </tr>\n",
       "  </tbody>\n",
       "</table>\n",
       "</div>"
      ],
      "text/plain": [
       "     titleId  ordering                   title region language        types  \\\n",
       "0  tt0000001         6              Carmencita     US      NaN  imdbDisplay   \n",
       "1  tt0000002         7  The Clown and His Dogs     US      NaN          NaN   \n",
       "2  tt0000005        10        Blacksmith Scene     US      NaN  imdbDisplay   \n",
       "3  tt0000005         1     Blacksmithing Scene     US      NaN  alternative   \n",
       "4  tt0000005         6     Blacksmith Scene #1     US      NaN  alternative   \n",
       "\n",
       "              attributes  isOriginalTitle  \n",
       "0                    NaN              0.0  \n",
       "1  literal English title              0.0  \n",
       "2                    NaN              0.0  \n",
       "3                    NaN              0.0  \n",
       "4                    NaN              0.0  "
      ]
     },
     "execution_count": 50,
     "metadata": {},
     "output_type": "execute_result"
    }
   ],
   "source": [
    "# save each file to a compressed csv file in data folder\n",
    "title.to_csv('Data/titles.csv.gz', \n",
    "              compression = 'gzip', \n",
    "              index = False)\n",
    "\n",
    "# check\n",
    "title = pd.read_csv('Data/titles.csv.gz',\n",
    "                    low_memory = False)\n",
    "\n",
    "title.head()"
   ]
  },
  {
   "cell_type": "code",
   "execution_count": 51,
   "id": "49169c49",
   "metadata": {},
   "outputs": [
    {
     "data": {
      "text/html": [
       "<div>\n",
       "<style scoped>\n",
       "    .dataframe tbody tr th:only-of-type {\n",
       "        vertical-align: middle;\n",
       "    }\n",
       "\n",
       "    .dataframe tbody tr th {\n",
       "        vertical-align: top;\n",
       "    }\n",
       "\n",
       "    .dataframe thead th {\n",
       "        text-align: right;\n",
       "    }\n",
       "</style>\n",
       "<table border=\"1\" class=\"dataframe\">\n",
       "  <thead>\n",
       "    <tr style=\"text-align: right;\">\n",
       "      <th></th>\n",
       "      <th>tconst</th>\n",
       "      <th>averageRating</th>\n",
       "      <th>numVotes</th>\n",
       "    </tr>\n",
       "  </thead>\n",
       "  <tbody>\n",
       "    <tr>\n",
       "      <th>0</th>\n",
       "      <td>tt0000001</td>\n",
       "      <td>5.7</td>\n",
       "      <td>1979</td>\n",
       "    </tr>\n",
       "    <tr>\n",
       "      <th>1</th>\n",
       "      <td>tt0000002</td>\n",
       "      <td>5.8</td>\n",
       "      <td>265</td>\n",
       "    </tr>\n",
       "    <tr>\n",
       "      <th>2</th>\n",
       "      <td>tt0000003</td>\n",
       "      <td>6.5</td>\n",
       "      <td>1832</td>\n",
       "    </tr>\n",
       "    <tr>\n",
       "      <th>3</th>\n",
       "      <td>tt0000004</td>\n",
       "      <td>5.6</td>\n",
       "      <td>179</td>\n",
       "    </tr>\n",
       "    <tr>\n",
       "      <th>4</th>\n",
       "      <td>tt0000005</td>\n",
       "      <td>6.2</td>\n",
       "      <td>2621</td>\n",
       "    </tr>\n",
       "  </tbody>\n",
       "</table>\n",
       "</div>"
      ],
      "text/plain": [
       "      tconst  averageRating  numVotes\n",
       "0  tt0000001            5.7      1979\n",
       "1  tt0000002            5.8       265\n",
       "2  tt0000003            6.5      1832\n",
       "3  tt0000004            5.6       179\n",
       "4  tt0000005            6.2      2621"
      ]
     },
     "execution_count": 51,
     "metadata": {},
     "output_type": "execute_result"
    }
   ],
   "source": [
    "# save each file to a compressed csv file in data folder\n",
    "rating.to_csv('Data/ratings.csv.gz', \n",
    "              compression = 'gzip', \n",
    "              index = False)\n",
    "\n",
    "# check\n",
    "rating = pd.read_csv('Data/ratings.csv.gz',\n",
    "                    low_memory = False)\n",
    "\n",
    "rating.head()"
   ]
  },
  {
   "cell_type": "code",
   "execution_count": null,
   "id": "5652a19d",
   "metadata": {},
   "outputs": [],
   "source": []
  }
 ],
 "metadata": {
  "kernelspec": {
   "display_name": "dojo-env",
   "language": "python",
   "name": "python3"
  },
  "language_info": {
   "codemirror_mode": {
    "name": "ipython",
    "version": 3
   },
   "file_extension": ".py",
   "mimetype": "text/x-python",
   "name": "python",
   "nbconvert_exporter": "python",
   "pygments_lexer": "ipython3",
   "version": "3.9.15"
  },
  "toc": {
   "base_numbering": 1,
   "nav_menu": {},
   "number_sections": false,
   "sideBar": true,
   "skip_h1_title": false,
   "title_cell": "Table of Contents",
   "title_sidebar": "Contents",
   "toc_cell": false,
   "toc_position": {},
   "toc_section_display": true,
   "toc_window_display": false
  }
 },
 "nbformat": 4,
 "nbformat_minor": 5
}
